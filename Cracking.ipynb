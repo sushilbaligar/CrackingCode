{
 "cells": [
  {
   "cell_type": "markdown",
   "metadata": {},
   "source": [
    "# Big O"
   ]
  },
  {
   "cell_type": "raw",
   "metadata": {},
   "source": [
    "Big O is the language and metric we use to describe the efficiency of the algorithm.\n",
    "\n",
    "O (Big O)\n",
    "---------------------------------------------------------------------------------------------\n",
    "describes an upper bound in time. An algo that prints all values in an array can be described as O(n). It could also be described as O(n^2), O(n^3) or O(2^n). The algo is atleast as fast as each of these. Therefore they are upper bounds on runtime.\n",
    "\n",
    "Ω (Big Omega) \n",
    "---------------------------------------------------------------------------------------------\n",
    "Equivalent concept but for lower bound. Printing all values in an array is Ω(n) as well as Ω(log N) and Ω(1). After all, it won't be faster than these runtimes.\n",
    "\n",
    "θ (Big Theta) \n",
    "---------------------------------------------------------------------------------------------\n",
    "Means both O and Ω. i.e: an alogrithm is θ(n) if it is both O(n) and Ω(n). Gives tight bound on runtime.\n",
    "\n",
    "Space Complexity \n",
    "---------------------------------------------------------------------------------------------\n",
    "For an array of size n and n^2, we need O(n) and O(n^2) space respectively.\n",
    "Stack space in recursive calls counts too. Code below takes O(n) space and O(n) time."
   ]
  },
  {
   "cell_type": "code",
   "execution_count": 2,
   "metadata": {},
   "outputs": [
    {
     "name": "stdout",
     "output_type": "stream",
     "text": [
      "sum(5)\n",
      "sum(4)\n",
      "sum(3)\n",
      "sum(2)\n",
      "sum(1)\n"
     ]
    },
    {
     "data": {
      "text/plain": [
       "15"
      ]
     },
     "execution_count": 2,
     "metadata": {},
     "output_type": "execute_result"
    }
   ],
   "source": [
    "# O(n) Time, O(n) Space \n",
    "def sum(n):\n",
    "    if (n<=0):\n",
    "        return 0\n",
    "    print(\"sum(\"+str(n)+\")\")\n",
    "    return n + sum(n-1)\n",
    "\n",
    "sum(5)"
   ]
  },
  {
   "cell_type": "markdown",
   "metadata": {},
   "source": [
    "However just because you have n calls, doesn't mean it takes O(n) space. Consider below code which adds adjacent elements"
   ]
  },
  {
   "cell_type": "code",
   "execution_count": 17,
   "metadata": {},
   "outputs": [
    {
     "name": "stdout",
     "output_type": "stream",
     "text": [
      "pairsum(0,1)\n",
      "pairsum(1,2)\n",
      "pairsum(2,3)\n",
      "pairsum(3,4)\n",
      "16\n"
     ]
    }
   ],
   "source": [
    "# O(n) Time, O(1) Space \n",
    "def sequence(n):\n",
    "    sum= 0\n",
    "    \n",
    "    for i in range(n):\n",
    "        print(\"pairsum(\"+str(i)+\",\"+str(i+1)+\")\")\n",
    "        sum = sum+pairsum(i,i+1)\n",
    "    print(sum)\n",
    "\n",
    "def pairsum(m,n):\n",
    "    return m+n\n",
    "\n",
    "sequence(4)"
   ]
  },
  {
   "cell_type": "markdown",
   "metadata": {},
   "source": [
    "There are roughly O(n) calls to pairsum(). However those calls do not exist simultaneously on the call stack, so you only need O(1) space."
   ]
  },
  {
   "cell_type": "raw",
   "metadata": {},
   "source": [
    "Drop the constants\n",
    "---------------------------------------------------------------------------------------------\n",
    "It is very possible for O(N) code to run faster than O(1) code for specific inputs. Big O just describes rate of increase.\n",
    "For this reason we drop the constants in runtime. Algo of O(2N) is actually O(N).\n",
    "\n",
    "Drop the Non-Dominant Terms\n",
    "---------------------------------------------------------------------------------------------\n",
    "         O(N^2 + N)   >> O(N^2)\n",
    "         O(N + log N) >> O(N)\n",
    " O(5*2^N + 1000N^100) >> O(2^N)\n",
    " \n",
    "We might still have a sum in runtime. For ex: O(A^2 + B) cannot be reduced without some special knowledge of A and B. "
   ]
  },
  {
   "cell_type": "raw",
   "metadata": {},
   "source": [
    "Time Complexities as per rate of increase\n",
    "---------------------------------------------------------------------------------------------\n",
    "O (log x) < O(x) < O(x log x) < O(x^2) < O(2^x) < O(x!) < O(x^x) < O(2^x * x!)"
   ]
  },
  {
   "cell_type": "raw",
   "metadata": {},
   "source": [
    "Multi-Part Algorithms : Add Vs Multiply\n",
    "---------------------------------------------------------------------------------------------\n",
    "Add the Runtimes O(A + B) when both are run different loops\n",
    "\n",
    ">> DO this, then, when you're all done, DO that >> ADD RUNTIMES\n",
    "\n",
    "for (int a : arrA):\n",
    "    print a\n",
    "    \n",
    "for (int b : arrB):\n",
    "    print b\n",
    "---------------------------------------------------------------------------------------------\n",
    "Multiply the Runtimes O(A * B) when both are run in single loop\n",
    ">> Do this for each time you do that >> MULTIPLY RUNTIMES\n",
    "for (int a : arrA):\n",
    "    for (int b : arrB):\n",
    "        print(a+\",\"+b)\n",
    "---------------------------------------------------------------------------------------------"
   ]
  },
  {
   "cell_type": "raw",
   "metadata": {},
   "source": [
    "Amortized Time\n",
    "---------------------------------------------------------------------------------------------\n",
    "ArrayList or dynamically resizing array allows you to have benefits of array while offering flexibility in size. When Array hits capacity, the ArrayList class will create new array with double capacity and copy all elements over to new array. \n",
    "\n",
    "Runtime of this insertion >> \n",
    "When array is full, inserting new element will take O(N) time. We will have to create new array of size 2N then copy N elements over. This insertion will take O(N) time. This doesn't happen often. Majority of time insertion takes O(1) time. We need a concept that takes both into account. This is what amortized time does. It allows us to describe that, yes the worst case happens once in a while. But once it happens, it wont happen again for so long that the cost is \"amortized\".\n",
    "\n",
    "In this case, what is amortized time? \n",
    "Notice, we double the capacity at arraysizes 1,2,4,8,...X. That doubling takes 1,2,4,8...X copies. What is sum of 1,2,4,8...X? Sum from left to right starts at 1 doubles till it becomes X. From left to right starts at X, halves till it be comes 1.\n",
    "What is sum of X + X/2 + X/4 + X/8 +....+ 1? This is roughly 2X.\n",
    "Therefore X insertions take O(2X) time. The amortized time for each insertion in ArrayList or Dynamically Resizing Array is O(1)."
   ]
  },
  {
   "cell_type": "raw",
   "metadata": {},
   "source": [
    "Log N Runtimes\n",
    "---------------------------------------------------------------------------------------------\n",
    "We commonly see Log N runtimes. Where do these come from?\n",
    "Lets look at binary search example. We are looking for X in N-element sorted array. We first compare X to midpoint of array. If X==middle we return. If X < middle, then we search on the left side of the array. If X > middle, then we search on the right side of the array.\n",
    "We start off with N-element to search. After single step, we are down to N/2 elements. One more step, we are down to N/4 elements. We stop when we find value or we're down to just one element.\n",
    "The total runtime is then a matter of how many steps we take (dividing N by 2 each time) until N becomes 1.\n",
    "We could look at this in reverse, how many times we multiply 1 by 2 until we get N?\n",
    "2^k = N => Log expresses this in form of 'k' here\n",
    "k = Log N (base 2)\n",
    "\n",
    "*** When you see a problem where the number of elements in the problem space gets halved each time, that will likely be a     O(Log N) runtime. \n",
    "\n",
    "*** What's the base of the log? It doesn't matter for the purpose of Big O."
   ]
  },
  {
   "cell_type": "raw",
   "metadata": {},
   "source": [
    "Recursive RUntimes\n",
    "---------------------------------------------------------------------------------------------\n",
    "what's runtime of this code?\n",
    "int f(int n){\n",
    "    if(n<=1){\n",
    "    return 1;\n",
    "    }\n",
    "    return f(n-1) + f(n-1);\n",
    "}\n",
    "\n",
    "Suppose we call f(4). calls go like this:\n",
    "f(4) - 2 calls to f(3) - 4 calls to f(2) - 8 calls to f(1). \n",
    "The tree will have depth N. Each node has 2 children. Each level has twice as many calls as one above it. No of nodes at each level is:\n",
    "level 0 - 2^0 - 1\n",
    "level 1 - 2^1 - 2\n",
    "level 2 - 2^2 - 4\n",
    "level 3 - 2^3 - 8\n",
    "So there will be 2^0 + 2^1 + 2^2+ 2^3 + .... + 2^N - which is (2^N+1 - 1) Nodes.\n",
    "\n",
    "*** Remember this pattern:\n",
    "When you have recursive function that makes multiple calls, the runtime will often look like O(branches ^ depth) where branches is number of time each recursive call branches. In case above it gives us O(2 ^ N)\n",
    "\n",
    "*** Base of log doesn't matter for big O since logs of different bases are only different by a constant factor. This does not apply to exponents. The base of exponent does matter. \n",
    "\n",
    "Compare 2^N and 8^N. \n",
    "8^N >> (2^3)N >> 2^3N >> 2^2N * 2^N \n",
    "Both are different by factor of 2^2N which is very much not a constant factor.\n",
    "\n",
    "The Space complexity of this algo above is O(N). Although we have total O(2N) nodes in tree total, only O(N) exist at any given time. Therefore, we only need to have O(N) memory available."
   ]
  },
  {
   "cell_type": "markdown",
   "metadata": {},
   "source": [
    "EXAMPLES & EXCERCISES - Calculate Runtime (Big O) for below"
   ]
  },
  {
   "cell_type": "code",
   "execution_count": null,
   "metadata": {},
   "outputs": [],
   "source": [
    "# Example 1\n",
    "void foo (int[] array) {\n",
    "    int sum = 0;\n",
    "    int product = 1;\n",
    "    for (int i=0; i<array.length; i++) {\n",
    "        sum += array[i];\n",
    "    }\n",
    "    for (int i=0; i<array.length; i++) {\n",
    "        product *= array[i];\n",
    "    }\n",
    "    System.out.println(sum + \",\"+product);\n",
    "}\n",
    "\n",
    "#This will take O(N) time. The fact that we iterate through array twice doesn't matter."
   ]
  },
  {
   "cell_type": "code",
   "execution_count": null,
   "metadata": {},
   "outputs": [],
   "source": [
    "# Example 2\n",
    "void printpairs(int[] array) {\n",
    "    for (int i=0; i<array.length; i++) {\n",
    "        for (int j=0; j<array.length; j++) {\n",
    "                System.out.println(array[i]+ \",\"+array[j]);\n",
    "    }\n",
    "}\n",
    "    \n",
    "# The inner loop has O(N) iterations and it is called N times. Therefore, the runtime is O(N^2).\n",
    "# Another way to see is, its printing all pairs (two element sequences). There are O(N^2) pairs. So runtime is O(N^2)."
   ]
  },
  {
   "cell_type": "code",
   "execution_count": null,
   "metadata": {},
   "outputs": [],
   "source": [
    "# Example 3\n",
    "void printunorderedpairs(int[] array) {\n",
    "    for (int i=0; i<array.length; i++) {\n",
    "        for (int j=i+1; j<array.length; j++) {\n",
    "                System.out.println(array[i]+ \",\"+array[j]);\n",
    "    }\n",
    "}\n",
    "    \n",
    "# First time j runs for N-1 steps. Second time N-2 steps. Then N-3 steps and so on. Number of steps total is therefore\n",
    "# (N-1) + (N-2) + (N-3) + .... + 2 + 1 >> 1+2+3+...+(N-1) >> N(N-1)/2 >> So runtime will be O(N^2).    \n",
    "# Alternatively, it iterates through all values of i,j where j>i. There are total N^2 pairs. Roughly half of those will have i<j\n",
    "# other half will have i>j. This code goes through roughly N^2/2 pairs, so it does O(N^2) work.  "
   ]
  },
  {
   "cell_type": "code",
   "execution_count": null,
   "metadata": {},
   "outputs": [],
   "source": [
    "# Example 4\n",
    "void printunorderedpairs(int[] arrayA, int[] arrayB) {\n",
    "    for (int i=0; i<arrayA.length; i++) {\n",
    "        for (int j=0; j<arrayB.length; j++) {\n",
    "            if(arrayA[i]<arrayB[j]){                         # constant - O(1)\n",
    "                System.out.println(arrayA[i]+ \",\"+arrayB[j]);\n",
    "            }\n",
    "        }\n",
    "    }\n",
    "}\n",
    "# Here for each element of aarayA, inner loop does b iterations. If a = arrayA.length and b = arrayB.length, then the runtime is\n",
    "# O(ab)    "
   ]
  },
  {
   "cell_type": "code",
   "execution_count": null,
   "metadata": {},
   "outputs": [],
   "source": [
    "# Example 5\n",
    "void printunorderedpairs(int[] arrayA, int[] arrayB) {\n",
    "    for (int i=0; i<arrayA.length; i++) {\n",
    "        for (int j=0; j<arrayB.length; j++) {\n",
    "            for (int k=0; k<10000; k++) {                     # constant - O(1)\n",
    "                System.out.println(arrayA[i]+ \",\"+arrayB[j]);\n",
    "            }\n",
    "        }\n",
    "    }\n",
    "}\n",
    "# Nothing changed here. 10000 units of work is still constant. So the runtime is again O(ab)  "
   ]
  },
  {
   "cell_type": "code",
   "execution_count": 1,
   "metadata": {},
   "outputs": [
    {
     "name": "stdout",
     "output_type": "stream",
     "text": [
      "7654x2c\n",
      "changing c with 7\n",
      "changing 2 with 6\n",
      "changing x with 5\n",
      "[7, 6, 5, 4, 'x', '2', 'c']\n"
     ]
    }
   ],
   "source": [
    "# Example 6\n",
    "def reverse(a):\n",
    "    w=''\n",
    "    for i in range(len(a),0,-1):\n",
    "        w += str(a[i-1])\n",
    "    print(w)\n",
    "    \n",
    "def reverse2(a):\n",
    "    temp=0\n",
    "    for i in range(0,int(len(a)/2)):\n",
    "        oth = len(a)-i-1\n",
    "        print(\"changing %s with %s\"%(a[i],a[oth]))\n",
    "        temp = str(a[i])\n",
    "        a[i] = a[oth]\n",
    "        a[oth] = temp\n",
    "    print(a)\n",
    "\n",
    "a = ['c',2,'x',4,5,6,7]\n",
    "reverse(a)\n",
    "reverse2(a)\n",
    "# The algo runs in O(N) time. The fact that it goes through only half of the array (iterations), does not impact big O"
   ]
  },
  {
   "cell_type": "raw",
   "metadata": {},
   "source": [
    "# Example 7\n",
    "Which of the following is equivalent to O(N)? Why?\n",
    "1. O(N+P) where P < N/2\n",
    "2. O(2N)\n",
    "3. O(N + Log N)\n",
    "4. O(N + M)\n",
    "\n",
    "1. P < N/2, then N is the dominant term, so we can drop O(P)\n",
    "2. O(2N) is O(N) since we drop constants\n",
    "3. O(N) dominates O(LogN), so we can drop O(LogN)\n",
    "4. There is no established relationship between M and N, so we have to keep both here.\n",
    "\n",
    "Therefore, all but the last one are equivalent to O(N)"
   ]
  },
  {
   "cell_type": "raw",
   "metadata": {},
   "source": [
    "#Example 8\n",
    "Suppose we had an algo which took in array of strings, sorted each string and then sorted the full array. What would the runtime be?\n",
    "Don't use N at all. Define names which are logical.\n",
    "Let s be length of longest string.\n",
    "Let a be length of array.\n",
    "Sorting each string >> O (s Log s)\n",
    "Do this for every string >> O (a * s log s)\n",
    "Now we have to sort all strings. We may be inclined to say it takes O(a log a) time. You should take into account that you need to compare the strings. Each string comparison takes O(s) time. There are (a Log a) comparisons, therefore this will take \n",
    "O(s*a log a) time.\n",
    "Adding O (a*s log s) + O (s*a log a) >> O (a*s (log a + log s))"
   ]
  },
  {
   "cell_type": "code",
   "execution_count": null,
   "metadata": {},
   "outputs": [],
   "source": [
    "#Example 9\n",
    "# Following code sums values of all nodes in balanced binary search tree. what is its runtime?\n",
    "int sum (Node node)\n",
    "{\n",
    "    if(node==NULL)\n",
    "    {\n",
    "        return 0;\n",
    "    }\n",
    "    return sum(node.left) + node.value + sum(node.right);\n",
    "}\n",
    "# Just because its a binary search tree, doesn't mean there's a log in it!\n",
    "# Most straightforward way is to think What code means. The code touches each node of tree once and does a constant amount of \n",
    "# work with each touch (excluding recursive calls). Therefore runtime will be  linear in terms of the number of nodes. If \n",
    "# there are N Nodes then the runtime is O(N)"
   ]
  },
  {
   "cell_type": "code",
   "execution_count": 7,
   "metadata": {},
   "outputs": [
    {
     "name": "stdout",
     "output_type": "stream",
     "text": [
      "\n",
      "checking if 11 is prime number\n",
      "\n",
      "It's a prime number!!\n",
      "\n",
      "checking if 57 is prime number\n",
      "\n",
      "Not a prime number\n"
     ]
    }
   ],
   "source": [
    "# Example 10\n",
    "# The following code checks if no is PRIME by checking for divisibility of numbers less than it. It only needs to go up to \n",
    "# sq.root of N because if N is divisible by a number greater than its sq.root then its divisible by something smaller than it.\n",
    "# For ex: while 33 is divisible by 11 (which is > than sq.root of 33), the counterpart to 11 is 3 (3 * 11 = 33). 33 will\n",
    "# have already been eliminated as a prime number by 3\n",
    "# What is the time complexity of function below:\n",
    "import math\n",
    "def isPrime(n):\n",
    "    print(\"\\nchecking if \"+str(n)+\" is prime number\\n\")\n",
    "    m = int(math.sqrt(n))\n",
    "    for x in range(2,m):\n",
    "        if (n % x == 0):\n",
    "            print(\"Not a prime number\")\n",
    "            return;\n",
    "    print(\"It's a prime number!!\")\n",
    "\n",
    "isPrime(11)\n",
    "isPrime(57)\n",
    "\n",
    "# The work inside for loop is constant. Therefore we just need to know how many iterations for loop goes through in the \n",
    "# worst case. It starts when x=2 and ends when x*x = N or it stops when x = √n. This runs in O (√n) time. "
   ]
  },
  {
   "cell_type": "code",
   "execution_count": 10,
   "metadata": {},
   "outputs": [
    {
     "name": "stdout",
     "output_type": "stream",
     "text": [
      "24\n",
      "-1\n",
      "120\n"
     ]
    }
   ],
   "source": [
    "# Example 11\n",
    "# Following code computes n! (N Factorial). What is it's time complexity?\n",
    "def factorial(n):\n",
    "    if(n < 0):\n",
    "        return -1\n",
    "    elif(n == 0 or n==1):\n",
    "        return 1\n",
    "    else:\n",
    "        return n * factorial(n-1)\n",
    "\n",
    "print(factorial(4))\n",
    "print(factorial(-8))\n",
    "print(factorial(5))\n",
    "\n",
    "# This is straight recursion from n to n-1 to n-2 down to 1. It will take O(N) time."
   ]
  },
  {
   "cell_type": "code",
   "execution_count": 14,
   "metadata": {},
   "outputs": [
    {
     "name": "stdout",
     "output_type": "stream",
     "text": [
      "1234\n",
      "calling permutationx(,1234)\n",
      "calling permutationx(4,123)\n",
      "1243\n",
      "calling permutationx(,1243)\n",
      "calling permutationx(3,124)\n",
      "calling permutationx(34,12)\n",
      "1324\n",
      "calling permutationx(,1324)\n",
      "calling permutationx(4,132)\n",
      "1342\n",
      "calling permutationx(,1342)\n",
      "calling permutationx(2,134)\n",
      "calling permutationx(24,13)\n",
      "1423\n",
      "calling permutationx(,1423)\n",
      "calling permutationx(3,142)\n",
      "1432\n",
      "calling permutationx(,1432)\n",
      "calling permutationx(2,143)\n",
      "calling permutationx(23,14)\n",
      "calling permutationx(234,1)\n",
      "2134\n",
      "calling permutationx(,2134)\n",
      "calling permutationx(4,213)\n",
      "2143\n",
      "calling permutationx(,2143)\n",
      "calling permutationx(3,214)\n",
      "calling permutationx(34,21)\n",
      "2314\n",
      "calling permutationx(,2314)\n",
      "calling permutationx(4,231)\n",
      "2341\n",
      "calling permutationx(,2341)\n",
      "calling permutationx(1,234)\n",
      "calling permutationx(14,23)\n",
      "2413\n",
      "calling permutationx(,2413)\n",
      "calling permutationx(3,241)\n",
      "2431\n",
      "calling permutationx(,2431)\n",
      "calling permutationx(1,243)\n",
      "calling permutationx(13,24)\n",
      "calling permutationx(134,2)\n",
      "3124\n",
      "calling permutationx(,3124)\n",
      "calling permutationx(4,312)\n",
      "3142\n",
      "calling permutationx(,3142)\n",
      "calling permutationx(2,314)\n",
      "calling permutationx(24,31)\n",
      "3214\n",
      "calling permutationx(,3214)\n",
      "calling permutationx(4,321)\n",
      "3241\n",
      "calling permutationx(,3241)\n",
      "calling permutationx(1,324)\n",
      "calling permutationx(14,32)\n",
      "3412\n",
      "calling permutationx(,3412)\n",
      "calling permutationx(2,341)\n",
      "3421\n",
      "calling permutationx(,3421)\n",
      "calling permutationx(1,342)\n",
      "calling permutationx(12,34)\n",
      "calling permutationx(124,3)\n",
      "4123\n",
      "calling permutationx(,4123)\n",
      "calling permutationx(3,412)\n",
      "4132\n",
      "calling permutationx(,4132)\n",
      "calling permutationx(2,413)\n",
      "calling permutationx(23,41)\n",
      "4213\n",
      "calling permutationx(,4213)\n",
      "calling permutationx(3,421)\n",
      "4231\n",
      "calling permutationx(,4231)\n",
      "calling permutationx(1,423)\n",
      "calling permutationx(13,42)\n",
      "4312\n",
      "calling permutationx(,4312)\n",
      "calling permutationx(2,431)\n",
      "4321\n",
      "calling permutationx(,4321)\n",
      "calling permutationx(1,432)\n",
      "calling permutationx(12,43)\n",
      "calling permutationx(123,4)\n"
     ]
    }
   ],
   "source": [
    "# Example 12\n",
    "# The code prints all permutations of a String.\n",
    "def permutation(str):\n",
    "    permutationx(str,\"\")\n",
    "\n",
    "def permutationx(str,prefix):\n",
    "    if(len(str) == 0):\n",
    "        print(prefix)\n",
    "    else:\n",
    "        for i in range(0,len(str)):\n",
    "            rem = str[0:i]+str[i+1:]\n",
    "            #print (str[0:i] +\">>\" +str[i+1:])\n",
    "            permutationx(rem,prefix+str[i])\n",
    "            print(\"calling permutationx(%s,%s)\"%(rem,prefix+str[i]))\n",
    "\n",
    "strh = \"1234\"\n",
    "permutation(strh)\n",
    "\n",
    "# This is tricky. We can think of this as no of times permutation gets called and how long each call takes.\n",
    "# If we were to generate permutation, then we would need to pick characters for each slot. suppose we had 7 characters.\n",
    "# First slot we have 7 choices. Next 6,5 and so on. Total no of options is 7*6*5*4*3*2*1 which is 7! (7 factorial)\n",
    "# Therefore, permutation is called n! times in base case when prefix is full. Each is attached to path of length N.\n",
    "# Therefore, there will be n * n! calls.\n",
    "# Each function call takes O(n) work. Total runtime will not exceed O (n^2 * n!)"
   ]
  },
  {
   "cell_type": "code",
   "execution_count": 69,
   "metadata": {},
   "outputs": [
    {
     "data": {
      "text/plain": [
       "8"
      ]
     },
     "execution_count": 69,
     "metadata": {},
     "output_type": "execute_result"
    }
   ],
   "source": [
    "# Example 13\n",
    "# Computes Nth Fibonacci number\n",
    "def fibo(n):\n",
    "    if (n < 0):\n",
    "        return -1\n",
    "    elif(n == 0):\n",
    "        return 0\n",
    "    elif(n == 1):\n",
    "        return 1\n",
    "    else:\n",
    "        return fibo(n-1) + fibo(n-2)\n",
    "    \n",
    "fibo(6)\n",
    "\n",
    "# We can use recursive pattern O(branches^depth). 2 recursive calls and depth N. Runtime is O(2^N)\n",
    "# Notice that sometimes leaf nodes have only 1 value and it makes difference. Accurately runtime ~O(1.6^N)."
   ]
  },
  {
   "cell_type": "code",
   "execution_count": 92,
   "metadata": {},
   "outputs": [
    {
     "name": "stdout",
     "output_type": "stream",
     "text": [
      "0 : 0\n",
      "1 : 1\n",
      "2 : 1\n",
      "3 : 2\n",
      "4 : 3\n",
      "5 : 5\n",
      "6 : 8\n"
     ]
    }
   ],
   "source": [
    "#Example 14\n",
    "# Prints all fibonacci numbers from 0 to N. What is time complexity?\n",
    "\n",
    "def allfib(n):\n",
    "    for i in range(0,n):\n",
    "        print(i,\":\",fib(i))\n",
    "\n",
    "def fib(n):\n",
    "    if(n <= 0): \n",
    "        return 0\n",
    "    elif (n == 1): \n",
    "        return 1\n",
    "    else: \n",
    "        return fib(n - 1) + fib(n - 2)\n",
    "\n",
    "allfib(7)\n",
    "\n",
    "# Dont rush here. Fib(n) takes O(2^n) time and its called n times. so, runtime is O(n*2^n). Find error here.\n",
    "# The error is that n is changing. Fib(n) takes O(2^n) time but it matter what value of n is.\n",
    "# Walking through each call\n",
    "# fib(1): O(2^1) steps\n",
    "# fib(2): O(2^2) steps\n",
    "# fib(3): O(2^3) steps\n",
    "# ....\n",
    "# fib(n): O(2^n) steps\n",
    "# Total work is 2^1 + 2^2 + ...+ 2^n which is (2^n+1). Therefore, runtime is still O(2^n)"
   ]
  },
  {
   "cell_type": "code",
   "execution_count": 16,
   "metadata": {},
   "outputs": [
    {
     "name": "stdout",
     "output_type": "stream",
     "text": [
      "0 : 0\n",
      "1 : 1\n",
      "2 : 1\n",
      "from memo\n",
      "3 : 2\n",
      "from memo\n",
      "from memo\n",
      "4 : 3\n",
      "from memo\n",
      "from memo\n",
      "5 : 5\n",
      "from memo\n",
      "from memo\n",
      "6 : 8\n"
     ]
    }
   ],
   "source": [
    "# Example 15\n",
    "# Prints all fibonacci numbers from 0 to N. This time it stores/caches previously computed values in integer array.\n",
    "# What is time complexity?\n",
    "\n",
    "def allfib(n):\n",
    "    memo = [0]*n\n",
    "    for i in range(0,n):\n",
    "        print(i,\":\",fib(i,memo))\n",
    "\n",
    "def fib(n,memo):\n",
    "    if(n <= 0):\n",
    "        memo[n]=0\n",
    "        return 0\n",
    "    elif(n == 1):\n",
    "        memo[n]=1\n",
    "        return 1\n",
    "    elif(memo[n]>0): \n",
    "        print(\"from memo\") \n",
    "        return memo[n]\n",
    "    \n",
    "    memo[n] = fib(n - 1, memo) + fib(n - 2,memo)\n",
    "    return memo[n]\n",
    "\n",
    "allfib(7)\n",
    "\n",
    "# Here since we cache all values early. From fib(4), all fib(n-1) and fib(n-2) values are computed and stored. We lookup \n",
    "# values sum them store new value in cache. This takes constant time. We are doing constant amount of work n times.\n",
    "# so runtime is O(n). Technique is called memoization common technique to optimize exponential time recursive algo's. "
   ]
  },
  {
   "cell_type": "code",
   "execution_count": 34,
   "metadata": {},
   "outputs": [
    {
     "name": "stdout",
     "output_type": "stream",
     "text": [
      "called for powersof2(10)\n",
      "called for powersof2(5)\n",
      "called for powersof2(2)\n",
      "called for powersof2(1)\n",
      "1\n",
      "2\n",
      "4\n",
      "8\n"
     ]
    },
    {
     "data": {
      "text/plain": [
       "8"
      ]
     },
     "execution_count": 34,
     "metadata": {},
     "output_type": "execute_result"
    }
   ],
   "source": [
    "# Example 16\n",
    "# Foll func prints powers of 2 from 1 to N. For ex: if  n=4, it prints 1,2 and 4. What is its runtime?\n",
    "def powersof2(n):\n",
    "    print(\"called for powersof2(\"+str(n)+\")\")\n",
    "    if(n<1):\n",
    "        return 0\n",
    "    elif(n==1):\n",
    "        print(1)\n",
    "        return 1\n",
    "    elif(n>1):\n",
    "        prev=powersof2(int(n/2))\n",
    "        curr=prev*2\n",
    "        print(curr)\n",
    "        return curr\n",
    "\n",
    "powersof2(10) \n",
    "\n",
    "# The runtime then, is the number of times we can divide 10 by 2 until we get down to base case(1). So, the number of times\n",
    "# we can halve n until we get 1 is O(log N)."
   ]
  },
  {
   "cell_type": "code",
   "execution_count": null,
   "metadata": {},
   "outputs": [],
   "source": [
    "\"\"\"\n",
    "HASH TABLES\n",
    "Details: https://www.hackerearth.com/practice/data-structures/hash-tables/basics-of-hash-tables/tutorial/\n"
   ]
  },
  {
   "cell_type": "markdown",
   "metadata": {},
   "source": [
    "#### ARRAYS AND STRINGS"
   ]
  },
  {
   "cell_type": "code",
   "execution_count": 34,
   "metadata": {},
   "outputs": [
    {
     "data": {
      "text/plain": [
       "True"
      ]
     },
     "execution_count": 34,
     "metadata": {},
     "output_type": "execute_result"
    }
   ],
   "source": [
    "# Implement an alogrithm to determine if a string has all unique characters. What if you cannot use additional DS's.\n",
    "def isUniqueChar(stringval):\n",
    "    if len(stringval)>256:   \n",
    "        # assuming character set is extended ascii (256 - 8binary digits, if ascii then 7binary digits-128 characters)\n",
    "        # if its unicode, 16binary digits - 65536 characters\n",
    "        return False;\n",
    "    charset = [False]*256\n",
    "    for i in range(len(stringval)):\n",
    "        val = ord(stringval[i])\n",
    "        if(charset[val]):\n",
    "            return False\n",
    "        charset[val] = True\n",
    "    return True\n",
    "\n",
    "isUniqueChar(\"helo\")"
   ]
  },
  {
   "cell_type": "code",
   "execution_count": 39,
   "metadata": {},
   "outputs": [
    {
     "name": "stdout",
     "output_type": "stream",
     "text": [
      "Strings are NOT permutation of each other\n",
      "Strings are permutation of each other\n",
      "Strings are NOT permutation of each other\n"
     ]
    },
    {
     "data": {
      "text/plain": [
       "False"
      ]
     },
     "execution_count": 39,
     "metadata": {},
     "output_type": "execute_result"
    }
   ],
   "source": [
    "# Given 2 strings, check if one is permutation of other\n",
    "# Solution1: Sort them and compare\n",
    "def ispermutation(str1,str2):\n",
    "    n1 = len(str1)\n",
    "    n2 = len(str2)\n",
    "    if (n1!=n2):\n",
    "        print(\"Strings are NOT permutation of each other\")\n",
    "        return False\n",
    "    a = sorted(str1)\n",
    "    str1 = \"\".join(a)\n",
    "    b = sorted(str2)\n",
    "    str2 = \"\".join(b)\n",
    "    for i in range(0,n1):\n",
    "        if(str1[i]!=str2[i]):\n",
    "            print(\"Strings are NOT permutation of each other\")\n",
    "            return False\n",
    "    print(\"Strings are permutation of each other\")\n",
    "    return True\n",
    "\n",
    "s = \"abcd\"\n",
    "t = \"pbcd\"\n",
    "u = \"dcba\"\n",
    "v = \"abcde\"\n",
    "ispermutation(s,t)\n",
    "ispermutation(s,u)\n",
    "ispermutation(s,v)"
   ]
  },
  {
   "cell_type": "code",
   "execution_count": 40,
   "metadata": {},
   "outputs": [
    {
     "name": "stdout",
     "output_type": "stream",
     "text": [
      "Strings are NOT permutation of each other\n",
      "Strings are permutation of each other\n",
      "Strings are NOT permutation of each other\n"
     ]
    },
    {
     "data": {
      "text/plain": [
       "False"
      ]
     },
     "execution_count": 40,
     "metadata": {},
     "output_type": "execute_result"
    }
   ],
   "source": [
    "# Given 2 strings, check if one is permutation of other\n",
    "# Solution2: Compare String counts of 2 strings\n",
    "def ispermutation(str1,str2):\n",
    "    if(len(str1)!=len(str2)):\n",
    "        print(\"Strings are NOT permutation of each other\")\n",
    "        return False\n",
    "    character_set = 256 # assuming extended ASCII character set here - 8binary digits - 256 characters\n",
    "    count1 = [0]*character_set\n",
    "    count2 = [0]*character_set\n",
    "    for i in range(len(str1)):\n",
    "        count1[ord(str1[i])]+=1\n",
    "        count2[ord(str2[i])]+=1\n",
    "    for i in range(character_set):\n",
    "        if(count1[i]!=count2[i]):\n",
    "            print(\"Strings are NOT permutation of each other\")\n",
    "            return False\n",
    "    print(\"Strings are permutation of each other\")\n",
    "    return True\n",
    "\n",
    "s = \"abcd\"\n",
    "t = \"pbcd\"\n",
    "u = \"dcba\"\n",
    "v = \"abcde\"\n",
    "ispermutation(s,t)\n",
    "ispermutation(s,u)\n",
    "ispermutation(s,v)"
   ]
  },
  {
   "cell_type": "code",
   "execution_count": null,
   "metadata": {},
   "outputs": [],
   "source": []
  }
 ],
 "metadata": {
  "kernelspec": {
   "display_name": "Python 3",
   "language": "python",
   "name": "python3"
  },
  "language_info": {
   "codemirror_mode": {
    "name": "ipython",
    "version": 3
   },
   "file_extension": ".py",
   "mimetype": "text/x-python",
   "name": "python",
   "nbconvert_exporter": "python",
   "pygments_lexer": "ipython3",
   "version": "3.7.3"
  }
 },
 "nbformat": 4,
 "nbformat_minor": 2
}
