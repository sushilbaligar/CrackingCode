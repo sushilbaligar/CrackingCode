{
 "cells": [
  {
   "cell_type": "markdown",
   "metadata": {},
   "source": [
    "# Glider Python Problems n Solutions"
   ]
  },
  {
   "cell_type": "code",
   "execution_count": 29,
   "metadata": {},
   "outputs": [
    {
     "name": "stdout",
     "output_type": "stream",
     "text": [
      "missing no is 5\n",
      "missing XOR no is 5\n"
     ]
    }
   ],
   "source": [
    "# Problem 1\n",
    "# Find missing number in an array of numbers from 1 to N\n",
    "def printmissingnumber(array):\n",
    "    n = len(array)\n",
    "    y = n+1 #(considering missing element)\n",
    "    propersum = (y)*(y+1)/2\n",
    "    sum=0\n",
    "    for i in range(0,n):\n",
    "        sum = sum+array[i]\n",
    "    missingnumber = propersum-sum\n",
    "    print(\"missing no is\",int(missingnumber))\n",
    "\n",
    "def printXORmissingnumber(array):\n",
    "    n = len(array)\n",
    "    x1 = 1\n",
    "    for i in range(2,n+2):\n",
    "        x1 = x1^i\n",
    "    x2 = array[0]\n",
    "    for i in range(1,n):\n",
    "        x2 = x2^array[i]\n",
    "    print(\"missing XOR no is\",x2^x1)    \n",
    "    \n",
    "array1 = [1,2,4,3,6]\n",
    "printmissingnumber(array1)\n",
    "printXORmissingnumber(array1)"
   ]
  },
  {
   "cell_type": "code",
   "execution_count": 31,
   "metadata": {},
   "outputs": [
    {
     "name": "stdout",
     "output_type": "stream",
     "text": [
      "24\n"
     ]
    }
   ],
   "source": [
    "# Problem 2\n",
    "# Count trailing zeroes in factorial of a number\n",
    "def trailingzeros(n):\n",
    "    count = 0\n",
    "    i=5\n",
    "    while (n/i > 1):\n",
    "        count+= int(n/i)\n",
    "        i = i*5\n",
    "    print(count)\n",
    "\n",
    "trailingzeros(100)"
   ]
  },
  {
   "cell_type": "code",
   "execution_count": 67,
   "metadata": {},
   "outputs": [
    {
     "name": "stdout",
     "output_type": "stream",
     "text": [
      "number of stairs :  8\n"
     ]
    }
   ],
   "source": [
    "# Problem 3\n",
    "# Staircase Problem \n",
    "def staircase(n):\n",
    "    if n==0 or n==1: return 1\n",
    "    temp = []\n",
    "    temp.append(1)\n",
    "    temp.append(1)\n",
    "    for i in range(2,n+1):\n",
    "        temp.append(temp[i-1] + temp[i-2])\n",
    "    print(\"number of stairs : \",temp[n])\n",
    "\n",
    "staircase(5)"
   ]
  },
  {
   "cell_type": "code",
   "execution_count": 72,
   "metadata": {},
   "outputs": [
    {
     "name": "stdout",
     "output_type": "stream",
     "text": [
      "found stepping number 101\n",
      "1\n"
     ]
    }
   ],
   "source": [
    "# Problem 4\n",
    "# Stepping numbers\n",
    "def issteppingnumber(n):\n",
    "    num = str(n)\n",
    "    for i in range(1,len(num)):\n",
    "        if abs(int(num[i])-int(num[i-1])) == 1:\n",
    "            continue\n",
    "        else:\n",
    "            return 0\n",
    "    return 1\n",
    "\n",
    "m,n = 100,110\n",
    "stepping_no_count = 0\n",
    "for i in range(m,n+1):\n",
    "    if issteppingnumber(i):\n",
    "        print(\"found stepping number\",i)\n",
    "        stepping_no_count += 1\n",
    "\n",
    "print(stepping_no_count)"
   ]
  },
  {
   "cell_type": "code",
   "execution_count": 109,
   "metadata": {},
   "outputs": [
    {
     "name": "stdout",
     "output_type": "stream",
     "text": [
      "calling f() now..\n",
      "32\n",
      "f() called now..\n"
     ]
    }
   ],
   "source": [
    "# problem 5\n",
    "# Implement simple decorator example in python\n",
    "def simple_decorator(f):\n",
    "    def wrapper(x):\n",
    "        print(\"calling f() now..\")\n",
    "        f(x)\n",
    "        print(\"f() called now..\")\n",
    "    return wrapper\n",
    "\n",
    "@simple_decorator\n",
    "def simple(x):\n",
    "    print(x)\n",
    "\n",
    "simple(32)"
   ]
  },
  {
   "cell_type": "code",
   "execution_count": 111,
   "metadata": {},
   "outputs": [
    {
     "name": "stdout",
     "output_type": "stream",
     "text": [
      "4\n",
      "5\n",
      "4\n",
      "2\n"
     ]
    }
   ],
   "source": [
    "# problem 6\n",
    "# Global local scope\n",
    "a=10;b=5;\n",
    "def scope():\n",
    "    a=3\n",
    "    a=a+1;\n",
    "    print(a)\n",
    "    print(b)\n",
    "scope()\n",
    "\n",
    "a=1;b=2;\n",
    "def scope():\n",
    "    global a;\n",
    "    a=4;b=5; # Note: global 'a' variable is re-assigned here\n",
    "\n",
    "scope()\n",
    "print(a)\n",
    "print(b)"
   ]
  },
  {
   "cell_type": "code",
   "execution_count": 116,
   "metadata": {},
   "outputs": [
    {
     "name": "stdout",
     "output_type": "stream",
     "text": [
      "343\n",
      "125\n",
      "[5, 7, 97, 77, 23, 73, 61]\n",
      "[10, 14, 44, 194, 108, 124, 154, 46, 146, 122]\n",
      "193\n"
     ]
    }
   ],
   "source": [
    "# Problem 7\n",
    "# Python lambda (Anonymous Functions) | filter, map, reduce\n",
    "# lambda arguments: expression\n",
    "# This function can have any number of arguments but only one expression, which is evaluated and returned.\n",
    "\n",
    "# Python code to illustrate cube of a number showing difference between def() and lambda(). \n",
    "def cube(y): return y*y*y; \n",
    "g = lambda x: x*x*x \n",
    "print(g(7)) \n",
    "print(cube(5)) \n",
    "\n",
    "# Filter-Map-Reduce - all take function and list as argument\n",
    "# Python code to illustrate filter() with lambda() - returns odd no's from list \n",
    "li = [5, 7, 22, 97, 54, 62, 77, 23, 73, 61] \n",
    "final_list = list(filter(lambda x: (x%2 != 0) , li)) \n",
    "print(final_list) \n",
    "\n",
    "# Python code to illustrate map() with lambda() - to get double of a list. \n",
    "li = [5, 7, 22, 97, 54, 62, 77, 23, 73, 61] \n",
    "final_list = list(map(lambda x: x*2 , li)) \n",
    "print(final_list) \n",
    "\n",
    "# Python code to illustrate reduce() with lambda() - to get sum of a list \n",
    "from functools import reduce\n",
    "li = [5, 8, 10, 20, 50, 100] \n",
    "sum = reduce((lambda x, y: x + y), li) \n",
    "print (sum)"
   ]
  },
  {
   "cell_type": "code",
   "execution_count": 117,
   "metadata": {},
   "outputs": [
    {
     "name": "stdout",
     "output_type": "stream",
     "text": [
      "[1, 4, 9, 16]\n",
      "<generator object <genexpr> at 0x0000015B078C68B8>\n",
      "1\n",
      "4\n",
      "9\n",
      "16\n"
     ]
    }
   ],
   "source": [
    "# problem 8\n",
    "#list comprehension and generator use - print square of all no's in list\n",
    "\n",
    "list1 = list2 = [1,2,3,4]\n",
    "print([i**2 for i in list1]) \n",
    "# generator object check paranthesis() instead of sq.brackets[]\n",
    "# generators always returns none\n",
    "gen1 = (i**2 for i in list2)\n",
    "print(gen1)\n",
    "for i in gen1:\n",
    "    print(i)"
   ]
  },
  {
   "cell_type": "code",
   "execution_count": 118,
   "metadata": {},
   "outputs": [
    {
     "name": "stdout",
     "output_type": "stream",
     "text": [
      "<class 'tuple'>\n",
      "True\n",
      "False\n",
      "a\tb\tc\n",
      "('sequence', 'errrr', 'fasdas')\n",
      "sequence\n",
      "('s', 'e', 'q', 'u', 'e', 'n', 'c', 'e')\n"
     ]
    }
   ],
   "source": [
    "# problem 9\n",
    "# TUPLES\n",
    "# tuples section\n",
    "t = 'a','b','c'\n",
    "print(type(t))\n",
    "print('a' in t)\n",
    "print('z' in t)\n",
    "x,y,z = t\n",
    "print(x+'\\t'+y+'\\t'+z)\n",
    "t = ('sequence','errrr','fasdas')\n",
    "print(t)\n",
    "t = ('sequence')\n",
    "print(t)\n",
    "t = tuple('sequence')\n",
    "print(t)"
   ]
  },
  {
   "cell_type": "code",
   "execution_count": 119,
   "metadata": {},
   "outputs": [
    {
     "name": "stdout",
     "output_type": "stream",
     "text": [
      "<class 'dict'> {'monday': 1, 'tuesday': 2, 'wednesday': 3}\n",
      "<class 'dict'> {'monday': 1, 'tuesday': 2, 'wednesday': 3}\n",
      "<class 'dict'> {'monday': 1, 'tuesday': 2, 'wednesday': 3}\n",
      "<class 'dict'> {'monday': 1, 'tuesday': 2, 'wednesday': 3}\n",
      "{'monday': 1, 'tuesday': 2, 'wednesday': 3, 'thursday': 4, 'friday': 5, 'saturday': 6}\n",
      "True False\n",
      "{'p': 0, 'a': 1, 'k': 2, 't': 4} 5 3 3 {'p': 0, 'a': 1, 'k': 2, 't': 4} 4\n",
      "{'p': 0, 'a': 1, 'k': 2, 't': 4} dict_keys(['p', 'a', 'k', 't']) dict_values([0, 1, 2, 4]) dict_items([('p', 0), ('a', 1), ('k', 2), ('t', 4)])\n",
      "5 5 1490480956976 1490480956976\n",
      "1490480956976 1490480956184\n",
      "17 1\n",
      "{'p': 0, 'a': 17, 'k': 2, 't': 4, 'c': 22, 'j': 6}\n",
      "{'p': 0, 'a': 1, 'k': 2, 't': 4, 'c': 22}\n"
     ]
    }
   ],
   "source": [
    "# problem 10\n",
    "# Dictionary\n",
    "import copy\n",
    "a={'monday':1,'tuesday':2,'wednesday':3}\n",
    "print(type(a),a)\n",
    "a=dict({'monday':1,'tuesday':2,'wednesday':3})\n",
    "print(type(a),a)\n",
    "a=dict(zip(['monday','tuesday','wednesday'],[1,2,3]))\n",
    "print(type(a),a)\n",
    "a=dict([('monday',1),('tuesday',2),('wednesday',3)])\n",
    "print(type(a),a)\n",
    "a['thursday']=4\n",
    "a.update({'friday':5,'saturday':6})\n",
    "print(a)\n",
    "print('wednesday' in a,5 in a)\n",
    "a=dict(zip('pakct',range(10)))\n",
    "print(a,len(a),a['c'],a.pop('c'),a,len(a))\n",
    "b=a #assignment - creates new variable that shares the reference to the original object\n",
    "print(b,b.keys(),b.values(),b.items())\n",
    "b.update({'c':1})\n",
    "b.update(c=22)\n",
    "print(len(b),len(a),id(a),id(b))\n",
    "c = b.copy() # create new object with all element references to original elements\n",
    "print(id(b),id(c))\n",
    "b.update(a=17)\n",
    "print(b['a'],c['a'])\n",
    "b.update({'j':6})\n",
    "print(b)\n",
    "print(c)"
   ]
  },
  {
   "cell_type": "code",
   "execution_count": 120,
   "metadata": {},
   "outputs": [
    {
     "name": "stdout",
     "output_type": "stream",
     "text": [
      "True\n",
      "False\n"
     ]
    }
   ],
   "source": [
    "# problem 11\n",
    "# Check if all chars in string are Unique or not\n",
    "def isunique(st):\n",
    "    if(len(st)>256):\n",
    "        return False\n",
    "    char_set = [False]*256\n",
    "    for i in range(0,len(st)):\n",
    "        val = ord(st[i])\n",
    "        if char_set[val]:\n",
    "            return False\n",
    "        char_set[val] = True\n",
    "    return True\n",
    "str = 'abcdefgh'\n",
    "str2 = 'abba'\n",
    "print(isunique(str))\n",
    "print(isunique(str2))"
   ]
  },
  {
   "cell_type": "code",
   "execution_count": 122,
   "metadata": {},
   "outputs": [
    {
     "name": "stdout",
     "output_type": "stream",
     "text": [
      "['a', 'a', 'b', 'e', 'h', 's', 's', 'v'] ['a', 'a', 'b', 'e', 'h', 's', 's', 'v']\n",
      "True\n",
      "['a', 'a', 'b', 'e', 'h', 's', 's', 'v'] ['a', 'a', 'b', 'h', 's', 's', 'v', 'y']\n",
      "False\n"
     ]
    }
   ],
   "source": [
    "# problem 12\n",
    "# Check if2 strings are permutations or not\n",
    "def arepermutations(str1,str2):\n",
    "    n1=len(str1)\n",
    "    n2 = len(str2)\n",
    "    if(n1!=n2):\n",
    "        return False\n",
    "    a = sorted(str1)\n",
    "    b = sorted(str2)\n",
    "    print(a,b)\n",
    "    for i in range(0,n1,1):\n",
    "        if(a[i]!=b[i]):\n",
    "            return False\n",
    "    return True\n",
    "\n",
    "str1 = 'basavesh'\n",
    "str2='veshbasa'\n",
    "str3 = 'basavysh'\n",
    "print(arepermutations(str1,str2))\n",
    "print(arepermutations(str1,str3))"
   ]
  },
  {
   "cell_type": "code",
   "execution_count": 123,
   "metadata": {},
   "outputs": [
    {
     "name": "stdout",
     "output_type": "stream",
     "text": [
      "True\n",
      "True\n",
      "True\n",
      "True\n"
     ]
    }
   ],
   "source": [
    "# problem 13\n",
    "# IS PALINDROME OR NOT\n",
    "def ispalindrome(palindrome_check_string):\n",
    "    if(palindrome_check_string == palindrome_check_string[::-1]):\n",
    "        return True\n",
    "    else:\n",
    "        return False\n",
    "def ispalindrome2(palindrome_check_string):\n",
    "    palin_length = len(palindrome_check_string)\n",
    "    for i in range(0,int(palin_length/2)):\n",
    "        if(palindrome_check_string[i]==palindrome_check_string[palin_length-i-1]):\n",
    "            return True\n",
    "        else:\n",
    "            return False\n",
    "def ispalindrome3(palindrome_check_string):\n",
    "    reverse_string = ''.join(reversed(palindrome_check_string))\n",
    "    if(palindrome_check_string == reverse_string):\n",
    "        return True\n",
    "    else:\n",
    "        return False\n",
    "def ispalindrome4(palindrome_check_string):\n",
    "    w=\"\"\n",
    "    for i in palindrome_check_string:\n",
    "        w=i+w\n",
    "        if(palindrome_check_string==w):\n",
    "            return True\n",
    "    return False\n",
    "string1 = \"malayalam\"\n",
    "print(ispalindrome(string1))\n",
    "print(ispalindrome2(string1))\n",
    "print(ispalindrome3(string1))\n",
    "print(ispalindrome4(string1))"
   ]
  },
  {
   "cell_type": "code",
   "execution_count": 125,
   "metadata": {},
   "outputs": [
    {
     "name": "stdout",
     "output_type": "stream",
     "text": [
      "True\n",
      "False\n"
     ]
    }
   ],
   "source": [
    "# problem 14\n",
    "# CAN FORM PALINDROME OR NOT\n",
    "def canformpalindrome(palin_string):\n",
    "    no_of_aplhabets = 256\n",
    "    count = [0]*no_of_aplhabets\n",
    "    palin_length = len(palin_string) \n",
    "    for i in range(0,palin_length,1):\n",
    "        count[ord(palin_string[i])] = count[ord(palin_string[i])]+1\n",
    "    odd_count = 0\n",
    "    for i in range(0,no_of_aplhabets):\n",
    "        if(count[i]%2!=0):\n",
    "            odd_count+=1\n",
    "    if(odd_count>1):\n",
    "        return False\n",
    "    else:\n",
    "        return True    \n",
    "\n",
    "string1 = \"gadga\"\n",
    "string2 = \"siruguppa\"\n",
    "print(canformpalindrome(string1))\n",
    "print(canformpalindrome(string2))"
   ]
  },
  {
   "cell_type": "code",
   "execution_count": 147,
   "metadata": {},
   "outputs": [
    {
     "name": "stdout",
     "output_type": "stream",
     "text": [
      "C:\\Users\\skumarsb\n",
      "Python Hello World\n",
      "True\n",
      "False\n",
      "True\n",
      "False\n",
      "hello World!\n",
      "[(0, 0), (1, 2), (2, 1), (3, 4), (4, 3)]\n",
      "[(0, 0), (2, 1), (1, 2), (4, 3), (3, 4)]\n",
      "['1', '2', '3', '6', '4', '5']\n"
     ]
    }
   ],
   "source": [
    "# problem 15\n",
    "\n",
    "# get home directory using '~' operator\n",
    "import os\n",
    "home = os.path.expanduser('~')\n",
    "print(home)\n",
    "\n",
    "# accept only 1 char input from user\n",
    "#while True:\n",
    "  #userInput = input('>>')\n",
    "  #if len(userInput) == 1:\n",
    "  #    break\n",
    "  #print (\"You should enter only one character\")\n",
    "\n",
    "#.title() method will capitalize the first letter of each word in a string. \n",
    "str = \"python hello world\"\n",
    "print(str.title()) \n",
    " \n",
    "print (\"12345\".isdigit()) #return True\n",
    "print (\"12345abc\".isdigit()) #return False\n",
    "\n",
    " \n",
    "print ('123abc'.isalnum()) #Return True\n",
    "print ('123#$%abc'.isalnum()) #Return False\n",
    "\n",
    "str = \"    hello World!   \"  # Strip() removes all leading n trailing whitespaces\n",
    "print(str.strip())    #Return \"hello World!\"\n",
    "\n",
    "# sort dictionary by key and value\n",
    "import operator\n",
    "x = {1: 2, 3: 4, 4: 3, 2: 1, 0: 0}\n",
    "sorted_dict_bykey = sorted(x.items(), key=operator.itemgetter(0))\n",
    "print(sorted_dict_bykey)\n",
    "sorted_dict_byvalue = sorted(x.items(), key=operator.itemgetter(1))\n",
    "print(sorted_dict_byvalue)\n",
    "\n",
    "# remove duplicates from a list\n",
    "itemList = ['1', '2', '3', '3', '6', '4', '5', '6']\n",
    "newList = []\n",
    "[newList.append(item) for item in itemList if item not in newList]\n",
    "print(newList)"
   ]
  },
  {
   "cell_type": "code",
   "execution_count": 1,
   "metadata": {},
   "outputs": [
    {
     "name": "stdout",
     "output_type": "stream",
     "text": [
      "[1.1, 3.3, 6.2, 7.8]\n"
     ]
    }
   ],
   "source": [
    "# Problem 16\n",
    "# Implement Selection sort\n",
    "def selection_sort(items):\n",
    "    for i in range(len(items)):                 # Outer loop\n",
    "        smallest = i                            # Declare an element as smallest\n",
    "        for j in range(smallest,len(items)):    # Inner loop\n",
    "            if(items[j]<items[smallest]):       # Compare and assign smallest element\n",
    "                smallest = j\n",
    "        temp = items[i]                         # Swap smallest element\n",
    "        items[i] = items[smallest]\n",
    "        items[smallest] = temp\n",
    "    print(items)                                # print sorted elements\n",
    "\n",
    "items=[7.8,6.2,3.3,1.1]\n",
    "selection_sort(items)                           # Runtime complexity = O(N^2)"
   ]
  },
  {
   "cell_type": "code",
   "execution_count": 2,
   "metadata": {},
   "outputs": [
    {
     "name": "stdout",
     "output_type": "stream",
     "text": [
      "  8           0 LOAD_FAST                1 (b)\n",
      "              2 LOAD_FAST                0 (a)\n",
      "              4 ROT_TWO\n",
      "              6 STORE_FAST               0 (a)\n",
      "              8 STORE_FAST               1 (b)\n",
      "             10 LOAD_CONST               0 (None)\n",
      "             12 RETURN_VALUE\n"
     ]
    }
   ],
   "source": [
    "# Problem 17\n",
    "# How does python swapping works internally - a,b = b,a\n",
    "\n",
    "# >> Python source code is converted to bytecode before it is executed. \n",
    "# >> You can see how the swap works internally by using the disassembler dis to see what the bytecode looks like:\n",
    "\n",
    "import dis\n",
    "def f(a,b): a, b = b, a\n",
    "dis.dis(f)\n",
    "\n",
    "# In simple terms, it pushes the values of a and b on the stack, rotates (swaps) the top two elements, \n",
    "# then pops the values again."
   ]
  },
  {
   "cell_type": "code",
   "execution_count": 10,
   "metadata": {},
   "outputs": [
    {
     "name": "stdout",
     "output_type": "stream",
     "text": [
      "[7.8, 6.2, 3.3, 1.1]\n"
     ]
    }
   ],
   "source": [
    "# Problem 18 - Implement Insertion sort\n",
    "def insertion_sort(items):\n",
    "    for i in range(len(items)):                 # Outer loop\n",
    "        for j in range(i,len(items)):           # Inner loop\n",
    "            if items[i]<items[j]:\n",
    "                items[i],items[j]=items[j],items[i] # swap elements if items[i]<items[j]\n",
    "    print(items)                                # print sorted elements\n",
    "\n",
    "items=[7.8,6.2,3.3,1.1]\n",
    "insertion_sort(items)                           # Runtime complexity = O(N^2)\n",
    "\n"
   ]
  },
  {
   "cell_type": "code",
   "execution_count": 19,
   "metadata": {},
   "outputs": [
    {
     "name": "stdout",
     "output_type": "stream",
     "text": [
      "[1.1, 2.2, 4.3, 5.5, 6.7, 9.0]\n"
     ]
    }
   ],
   "source": [
    "# Problem 19 - Implement quick sort\n",
    "def partition(items,low,high):\n",
    "    i = low-1\n",
    "    pivot = items[high]\n",
    "    for j in range(low,high):\n",
    "        if(items[j]<=pivot):\n",
    "            i=i+1\n",
    "            items[j],items[i]=items[i],items[j]\n",
    "    items[i+1],items[high]=items[high],items[i+1]\n",
    "    return i+1\n",
    "\n",
    "def quicksort(items,low,high):\n",
    "    if(low<high):\n",
    "        pi = partition(items,low,high)\n",
    "        quicksort(items,low,pi-1)\n",
    "        quicksort(items,pi+1,high)\n",
    "    \n",
    "items=[4.3,5.5,6.7,1.1,2.2,9.0]\n",
    "quicksort(items,0,len(items)-1)\n",
    "print(items)"
   ]
  },
  {
   "cell_type": "code",
   "execution_count": 62,
   "metadata": {},
   "outputs": [
    {
     "name": "stdout",
     "output_type": "stream",
     "text": [
      "Splitting  [54, 26, 93, 17, 77, 31, 44, 55, 20]\n",
      "Splitting  [54, 26, 93, 17]\n",
      "Splitting  [54, 26]\n",
      "Splitting  [54]\n",
      "Merging  [54]\n",
      "Splitting  [26]\n",
      "Merging  [26]\n",
      "Merging  [26, 54]\n",
      "Splitting  [93, 17]\n",
      "Splitting  [93]\n",
      "Merging  [93]\n",
      "Splitting  [17]\n",
      "Merging  [17]\n",
      "Merging  [17, 93]\n",
      "Merging  [17, 26, 54, 93]\n",
      "Splitting  [77, 31, 44, 55, 20]\n",
      "Splitting  [77, 31]\n",
      "Splitting  [77]\n",
      "Merging  [77]\n",
      "Splitting  [31]\n",
      "Merging  [31]\n",
      "Merging  [31, 77]\n",
      "Splitting  [44, 55, 20]\n",
      "Splitting  [44]\n",
      "Merging  [44]\n",
      "Splitting  [55, 20]\n",
      "Splitting  [55]\n",
      "Merging  [55]\n",
      "Splitting  [20]\n",
      "Merging  [20]\n",
      "Merging  [20, 55]\n",
      "Merging  [20, 44, 55]\n",
      "Merging  [20, 31, 44, 55, 77]\n",
      "Merging  [17, 20, 26, 31, 44, 54, 55, 77, 93]\n",
      "[17, 20, 26, 31, 44, 54, 55, 77, 93]\n"
     ]
    }
   ],
   "source": [
    "# Implement Merge Sort\n",
    "def mergeSort(alist):\n",
    "    print(\"Splitting \",alist)\n",
    "    if len(alist)>1:\n",
    "        mid = len(alist)//2\n",
    "        lefthalf = alist[:mid]\n",
    "        righthalf = alist[mid:]\n",
    "\n",
    "        mergeSort(lefthalf)\n",
    "        mergeSort(righthalf)\n",
    "\n",
    "        i=0\n",
    "        j=0\n",
    "        k=0\n",
    "        while i < len(lefthalf) and j < len(righthalf):\n",
    "            if lefthalf[i] < righthalf[j]:\n",
    "                alist[k]=lefthalf[i]\n",
    "                i=i+1\n",
    "            else:\n",
    "                alist[k]=righthalf[j]\n",
    "                j=j+1\n",
    "            k=k+1\n",
    "\n",
    "        while i < len(lefthalf):\n",
    "            alist[k]=lefthalf[i]\n",
    "            i=i+1\n",
    "            k=k+1\n",
    "\n",
    "        while j < len(righthalf):\n",
    "            alist[k]=righthalf[j]\n",
    "            j=j+1\n",
    "            k=k+1\n",
    "    print(\"Merging \",alist)\n",
    "\n",
    "alist = [54,26,93,17,77,31,44,55,20]\n",
    "mergeSort(alist)\n",
    "print(alist)\n"
   ]
  },
  {
   "cell_type": "code",
   "execution_count": 64,
   "metadata": {},
   "outputs": [
    {
     "name": "stdout",
     "output_type": "stream",
     "text": [
      "str >>  hello, world\n",
      "repr >>  'hello, world'\n",
      "str >>  2019-06-26 22:44:47.763507\n",
      "repr >>  datetime.datetime(2019, 6, 26, 22, 44, 47, 763507)\n"
     ]
    }
   ],
   "source": [
    "# Problem 20 - str() vs repr() in Python     \n",
    "s= 'hello, world'\n",
    "print(\"str >> \",str(s))\n",
    "print(\"repr >> \",repr(s))\n",
    "import datetime\n",
    "s=datetime.datetime.now()\n",
    "print(\"str >> \",str(s))\n",
    "print(\"repr >> \",repr(s))\n",
    "\n",
    "# Following are differences:\n",
    "# str() is used for creating output for end user while repr() is mainly used for debugging and development. \n",
    "# repr’s goal is to be unambiguous and str’s is to be readable. For example, if we suspect a float has a small rounding error, \n",
    "# repr will show us while str may not.\n",
    "# repr() compute the “official” string representation of an object (a representation that has all information about the \n",
    "# abject) and str() is used to compute the “informal” string representation of an object (a representation that is useful \n",
    "# for printing the object).\n",
    "# The print statement and str() built-in function uses __str__ to display the string representation of the object while \n",
    "# the repr() built-in function uses __repr__ to display the object.\n"
   ]
  },
  {
   "cell_type": "code",
   "execution_count": 80,
   "metadata": {},
   "outputs": [
    {
     "name": "stdout",
     "output_type": "stream",
     "text": [
      "<<3\n",
      "3333\n",
      "<zip object at 0x0000017C9290AC88>\n",
      "{('Nikhil', 1, 50), ('Astha', 5, 70), ('Manjeet', 4, 40), ('Shambhavi', 3, 60)}\n",
      "{1, 2, 3, 4, 5}\n",
      "{1, 2, 3, 4, 5}\n",
      "{1, 2, 3}\n",
      "Return type: <class 'enumerate'>\n",
      "[(0, 'eat'), (1, 'sleep'), (2, 'repeat')]\n",
      "[(2, 'g'), (3, 'e'), (4, 'e'), (5, 'k')]\n"
     ]
    }
   ],
   "source": [
    "# Problem 21 - Multiple inputs\n",
    "\n",
    "# Input() in python\n",
    "s = input(\"<<\") # Asks for user input, returns always a string. If you give 3, its returned as String '3' not int 3\n",
    "print(s*4)      # Given 3 this prints 3333 as str(3)*4 is '3333'\n",
    "\n",
    "# zip() in python\n",
    "name = [ \"Manjeet\", \"Nikhil\", \"Shambhavi\", \"Astha\" ] \n",
    "roll_no = [ 4, 1, 3, 5 ] \n",
    "marks = [ 40, 50, 60, 70 ]  \n",
    "mapped = zip(name, roll_no, marks) # zip() takes iterables as input (list, string, etc)\n",
    "print(mapped)                      # returns single iterator object having mapped values from all iterables\n",
    "mapped = set(mapped)               # gives set of all mapped values from all iterables\n",
    "print (mapped)\n",
    "\n",
    "# set() in python - set() method is used to convert any of the iterable to the distinct element \n",
    "# and sorted sequence of iterable elements, commonly called Set.\n",
    "# An empty set if no element is passed. Sorted, non-repeating element iterable modified as passed as argument\n",
    "list1 = [1,3,2,4,5]\n",
    "tuple1 = (1,3,2,4,5)\n",
    "print(set(list1))\n",
    "print(set(tuple1))\n",
    "dict1 = {1:'a',2:'b',3:'c'} # Dictionary can also be created using set, but only keys remain after conversion, values are lost.\n",
    "print(set(dict1)) #prints only keys not values\n",
    "\n",
    "# enumerate() in python - Enumerate() method adds a counter to an iterable and returns it in a form of enumerate object. \n",
    "# This enumerate object can then be used directly in for loops or be converted into a list of tuples using list() method.\n",
    "l1 = [\"eat\",\"sleep\",\"repeat\"] \n",
    "s1 = \"geek\"\n",
    "# creating enumerate objects \n",
    "obj1 = enumerate(l1) \n",
    "obj2 = enumerate(s1) \n",
    "print(\"Return type:\",type(obj1)) \n",
    "print(list(enumerate(l1)))\n",
    "print(list(enumerate(s1,2))) # changing start index to 2 from 0 "
   ]
  },
  {
   "cell_type": "code",
   "execution_count": null,
   "metadata": {},
   "outputs": [],
   "source": []
  }
 ],
 "metadata": {
  "kernelspec": {
   "display_name": "Python 3",
   "language": "python",
   "name": "python3"
  },
  "language_info": {
   "codemirror_mode": {
    "name": "ipython",
    "version": 3
   },
   "file_extension": ".py",
   "mimetype": "text/x-python",
   "name": "python",
   "nbconvert_exporter": "python",
   "pygments_lexer": "ipython3",
   "version": "3.7.3"
  }
 },
 "nbformat": 4,
 "nbformat_minor": 2
}
